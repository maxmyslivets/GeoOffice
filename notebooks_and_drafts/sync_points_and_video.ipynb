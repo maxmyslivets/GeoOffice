{
 "cells": [
  {
   "cell_type": "code",
   "id": "initial_id",
   "metadata": {
    "collapsed": true,
    "ExecuteTime": {
     "end_time": "2025-07-26T19:30:51.675127Z",
     "start_time": "2025-07-26T19:30:51.671880Z"
    }
   },
   "source": [
    "# Ячейка 2: Импорты\n",
    "import re\n",
    "import csv\n",
    "from datetime import datetime, timedelta\n",
    "import subprocess\n",
    "import os"
   ],
   "outputs": [],
   "execution_count": 9
  },
  {
   "metadata": {
    "ExecuteTime": {
     "end_time": "2025-07-26T19:30:52.419087Z",
     "start_time": "2025-07-26T19:30:52.416363Z"
    }
   },
   "cell_type": "code",
   "source": [
    "# Ячейка 3: Время начала видео из имени файла\n",
    "def get_video_start_time_from_filename(filename):\n",
    "    # Пример: 20250726_131943.mp4\n",
    "    match = re.search(r'(\\d{8})_(\\d{6})', filename)\n",
    "    if not match:\n",
    "        raise ValueError('Не удалось извлечь время из имени файла')\n",
    "    date_part, time_part = match.groups()\n",
    "    dt_str = f'{date_part} {time_part}'\n",
    "    return datetime.strptime(dt_str, '%Y%m%d %H%M%S')"
   ],
   "id": "b35d014d0989b3e0",
   "outputs": [],
   "execution_count": 10
  },
  {
   "metadata": {
    "ExecuteTime": {
     "end_time": "2025-07-26T19:30:53.150974Z",
     "start_time": "2025-07-26T19:30:53.148210Z"
    }
   },
   "cell_type": "code",
   "source": [
    "# Ячейка 4: Длительность видео через ffprobe\n",
    "def get_video_duration(filename):\n",
    "    # ffprobe должен быть установлен в системе\n",
    "    result = subprocess.run([\n",
    "        'ffprobe', '-v', 'error', '-show_entries', 'format=duration',\n",
    "        '-of', 'default=noprint_wrappers=1:nokey=1', filename\n",
    "    ], stdout=subprocess.PIPE, stderr=subprocess.PIPE, text=True)\n",
    "    if result.returncode != 0:\n",
    "        raise RuntimeError(f'ffprobe error: {result.stderr}')\n",
    "    return float(result.stdout.strip())"
   ],
   "id": "df817f3bbf28fc8",
   "outputs": [],
   "execution_count": 11
  },
  {
   "metadata": {
    "ExecuteTime": {
     "end_time": "2025-07-26T19:30:54.108111Z",
     "start_time": "2025-07-26T19:30:54.104342Z"
    }
   },
   "cell_type": "code",
   "source": [
    "# Ячейка 5: Чтение точек из CSV\n",
    "def read_points_from_csv(csv_path):\n",
    "    points = []\n",
    "    with open(csv_path, encoding='utf-8') as f:\n",
    "        reader = csv.reader(f)\n",
    "        for row in reader:\n",
    "            if len(row) < 7:\n",
    "                continue\n",
    "            try:\n",
    "                point_num = int(row[0])\n",
    "                start_time = datetime.strptime(row[5], '%Y-%m-%d %H:%M:%S.%f')\n",
    "                end_time = datetime.strptime(row[6], '%Y-%m-%d %H:%M:%S.%f')\n",
    "                points.append({'num': point_num, 'start': start_time, 'end': end_time})\n",
    "            except Exception as e:\n",
    "                # Пробуем без миллисекунд\n",
    "                try:\n",
    "                    start_time = datetime.strptime(row[5], '%Y-%m-%d %H:%M:%S')\n",
    "                    end_time = datetime.strptime(row[6], '%Y-%m-%d %H:%M:%S')\n",
    "                    points.append({'num': point_num, 'start': start_time, 'end': end_time})\n",
    "                except Exception:\n",
    "                    continue\n",
    "    return points"
   ],
   "id": "208815953846107e",
   "outputs": [],
   "execution_count": 12
  },
  {
   "metadata": {
    "ExecuteTime": {
     "end_time": "2025-07-26T19:30:55.575184Z",
     "start_time": "2025-07-26T19:30:55.571362Z"
    }
   },
   "cell_type": "code",
   "source": [
    "# Ячейка 6: Генерация SRT\n",
    "def timedelta_to_srt(tdelta):\n",
    "    total_seconds = int(tdelta.total_seconds())\n",
    "    ms = int((tdelta.total_seconds() - total_seconds) * 1000)\n",
    "    hours = total_seconds // 3600\n",
    "    minutes = (total_seconds % 3600) // 60\n",
    "    seconds = total_seconds % 60\n",
    "    return f'{hours:02}:{minutes:02}:{seconds:02},{ms:03}'\n",
    "\n",
    "def generate_srt(points, video_start, video_duration, srt_path):\n",
    "    with open(srt_path, 'w', encoding='utf-8') as f:\n",
    "        for idx, pt in enumerate(points, 1):\n",
    "            # Сдвиг времени точки относительно старта видео\n",
    "            rel_start = pt['start'] - video_start\n",
    "            rel_end = pt['end'] - video_start\n",
    "            # Ограничиваем в пределах видео\n",
    "            if rel_end.total_seconds() < 0 or rel_start.total_seconds() > video_duration:\n",
    "                continue\n",
    "            rel_start = max(rel_start, timedelta(0))\n",
    "            rel_end = min(rel_end, timedelta(seconds=video_duration))\n",
    "            f.write(f'{idx}\\n')\n",
    "            f.write(f'{timedelta_to_srt(rel_start)} --> {timedelta_to_srt(rel_end)}\\n')\n",
    "            f.write(f'Точка {pt['num']}\\n\\n')"
   ],
   "id": "f27b1c6c0bb17d48",
   "outputs": [],
   "execution_count": 13
  },
  {
   "metadata": {
    "ExecuteTime": {
     "end_time": "2025-07-26T20:53:52.926367Z",
     "start_time": "2025-07-26T20:53:52.877491Z"
    }
   },
   "cell_type": "code",
   "source": [
    "# Ячейка 7: Пример использования\n",
    "video_file = r\"C:\\geowork\\2025\\Новополоцк\\122.25 Парк культуры (Аллея)\\Исходные\\Фото, видео-абрисы\\20250726_124748.mp4\"  # имя файла\n",
    "csv_file = r\"C:\\geowork\\2025\\2025-07-26 122-25 парк.csv\"  # путь к csv\n",
    "srt_file = r'C:\\geowork\\2025\\Новополоцк\\122.25 Парк культуры (Аллея)\\Исходные\\Фото, видео-абрисы\\20250726_124748.srt'\n",
    "\n",
    "video_start = get_video_start_time_from_filename(video_file)\n",
    "video_duration = get_video_duration(video_file)\n",
    "points = read_points_from_csv(csv_file)\n",
    "generate_srt(points, video_start, video_duration, srt_file)\n",
    "print(f'SRT-файл создан: {srt_file}')"
   ],
   "id": "33afe620958906a",
   "outputs": [
    {
     "name": "stdout",
     "output_type": "stream",
     "text": [
      "SRT-файл создан: C:\\geowork\\2025\\Новополоцк\\122.25 Парк культуры (Аллея)\\Исходные\\Фото, видео-абрисы\\20250726_124748.srt\n"
     ]
    }
   ],
   "execution_count": 21
  }
 ],
 "metadata": {
  "kernelspec": {
   "display_name": "Python 3",
   "language": "python",
   "name": "python3"
  },
  "language_info": {
   "codemirror_mode": {
    "name": "ipython",
    "version": 2
   },
   "file_extension": ".py",
   "mimetype": "text/x-python",
   "name": "python",
   "nbconvert_exporter": "python",
   "pygments_lexer": "ipython2",
   "version": "2.7.6"
  }
 },
 "nbformat": 4,
 "nbformat_minor": 5
}
