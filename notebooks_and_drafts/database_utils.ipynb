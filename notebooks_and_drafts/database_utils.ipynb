{
 "cells": [
  {
   "metadata": {},
   "cell_type": "markdown",
   "source": "# Операции с файлом базы данных",
   "id": "a5334abcc15328a7"
  },
  {
   "metadata": {},
   "cell_type": "markdown",
   "source": "Инициализация рабочей директории и настроек",
   "id": "2c241485de207c0"
  },
  {
   "metadata": {
    "ExecuteTime": {
     "end_time": "2025-08-26T20:08:54.445631Z",
     "start_time": "2025-08-26T20:08:54.423432Z"
    }
   },
   "cell_type": "code",
   "source": [
    "import os\n",
    "import sys\n",
    "from pathlib import Path\n",
    "\n",
    "def init_work_dir(path):\n",
    "    # Установить рабочую директорию\n",
    "    project_root = Path(path)\n",
    "    os.chdir(project_root)\n",
    "    # Добавить путь к модулям проекта\n",
    "    sys.path.insert(0, str(project_root))\n",
    "    print(f\"Текущая рабочая директория: {os.getcwd()}\")\n",
    "\n",
    "init_work_dir(\"C:/Projects/GeoOffice\")\n",
    "\n",
    "os.environ[\"FLET_APP_STORAGE_DATA\"] = r\"C:\\Projects\\GeoOffice\\storage\"\n",
    "\n",
    "from src.utils.file_utils import FileUtils\n",
    "from src.models.settings_model import Settings\n",
    "\n",
    "settings = Settings(data=None)\n",
    "settings_data = FileUtils.load_json(Path(\"storage\") / \"data\" / \"settings.json\")\n",
    "try:\n",
    "    settings = Settings(data=settings_data)\n",
    "    print(\"✅ Настройки загружены успешно\")\n",
    "except Exception as e:\n",
    "    print(f\"Ошибка чтения файла настроек: {e}\")\n",
    "    print(\"Используются настройки по умолчанию\")\n",
    "\n",
    "DB_PATH = settings.paths.database_path\n",
    "print(f\"База данных: {DB_PATH}\")"
   ],
   "id": "5b3216c07fbfce31",
   "outputs": [
    {
     "name": "stdout",
     "output_type": "stream",
     "text": [
      "Текущая рабочая директория: C:\\Projects\\GeoOffice\n",
      "GeoOffice | INFO     | log_startup() | ============================================================\n",
      "GeoOffice | INFO     | log_startup() | Запуск приложения GeoOffice\n",
      "GeoOffice | INFO     | log_startup() | Дата и время: 2025-08-26 23:08:54\n",
      "GeoOffice | INFO     | log_startup() | Версия Python: 3.13.5 (tags/v3.13.5:6cb20a2, Jun 11 2025, 16:15:46) [MSC v.1943 64 bit (AMD64)]\n",
      "GeoOffice | INFO     | log_startup() | Рабочая директория: C:\\Projects\\GeoOffice\n",
      "GeoOffice | INFO     | log_startup() | Директория логов: C:\\Projects\\GeoOffice\\storage\\logs\n",
      "GeoOffice | INFO     | log_startup() | ============================================================\n",
      "GeoOffice.utils.files | DEBUG    | load_json() | Загрузка JSON файла: storage\\data\\settings.json\n",
      "GeoOffice.utils.files | INFO     | load_json() | JSON файл загружен: storage\\data\\settings.json\n",
      "✅ Настройки загружены успешно\n",
      "База данных: C:\\GeoOffice_test_server\\geo_office.db\n"
     ]
    }
   ],
   "execution_count": 1
  },
  {
   "metadata": {},
   "cell_type": "markdown",
   "source": "Установка / снятие защиты",
   "id": "c18fcbc4a2d6736f"
  },
  {
   "metadata": {
    "ExecuteTime": {
     "end_time": "2025-07-13T13:02:54.798378Z",
     "start_time": "2025-07-13T13:02:54.790637Z"
    }
   },
   "cell_type": "code",
   "source": [
    "import subprocess\n",
    "\n",
    "def show_db_file():\n",
    "    subprocess.run(['attrib', '-h', '-s', str(DB_PATH)], check=True)\n",
    "def protect_db_file():\n",
    "    subprocess.run(['attrib', '+h', '+s', str(DB_PATH)], check=True)\n",
    "\n",
    "show_db_file()  # Снятие защиты\n",
    "# protect_db_file()  # Установка защиты"
   ],
   "id": "30a0ccd76b9e4e3d",
   "outputs": [],
   "execution_count": 3
  },
  {
   "metadata": {},
   "cell_type": "markdown",
   "source": "Удаление БД",
   "id": "e813dc6d3f21e6c3"
  },
  {
   "metadata": {
    "ExecuteTime": {
     "end_time": "2025-07-13T13:08:59.857448Z",
     "start_time": "2025-07-13T13:08:59.854447Z"
    }
   },
   "cell_type": "code",
   "source": [
    "from pathlib import Path\n",
    "\n",
    "def delete_db_file():\n",
    "    Path(DB_PATH).unlink()\n",
    "    if Path(DB_PATH).exists():\n",
    "        raise Exception(\"Файл не удалён\")\n",
    "\n",
    "# delete_db_file()"
   ],
   "id": "3cd44a74c26fd5f0",
   "outputs": [],
   "execution_count": 4
  },
  {
   "metadata": {},
   "cell_type": "markdown",
   "source": "Создание / Подключение к БД",
   "id": "af7c2ec5c8b42ebf"
  },
  {
   "metadata": {
    "ExecuteTime": {
     "end_time": "2025-08-26T20:08:56.639239Z",
     "start_time": "2025-08-26T20:08:56.594368Z"
    }
   },
   "cell_type": "code",
   "source": [
    "from src.services.database_service import DatabaseService\n",
    "\n",
    "db_service = DatabaseService(DB_PATH)\n",
    "db_service.connection()"
   ],
   "id": "initial_id",
   "outputs": [
    {
     "name": "stdout",
     "output_type": "stream",
     "text": [
      "GeoOffice.services.database_service | INFO     | connection() | Инициализация базы данных: C:\\GeoOffice_test_server\\geo_office.db\n",
      "GeoOffice.services.database_service | INFO     | connection() | База данных успешно инициализирована\n"
     ]
    }
   ],
   "execution_count": 2
  },
  {
   "metadata": {
    "ExecuteTime": {
     "end_time": "2025-08-26T20:09:00.338901Z",
     "start_time": "2025-08-26T20:09:00.334130Z"
    }
   },
   "cell_type": "code",
   "source": "db_service.connected",
   "id": "97ba9c2722c7ff2a",
   "outputs": [
    {
     "data": {
      "text/plain": [
       "True"
      ]
     },
     "execution_count": 3,
     "metadata": {},
     "output_type": "execute_result"
    }
   ],
   "execution_count": 3
  },
  {
   "metadata": {},
   "cell_type": "markdown",
   "source": "# Заполнение базы данных",
   "id": "2eef62d80893969f"
  },
  {
   "metadata": {},
   "cell_type": "markdown",
   "source": "Заполнение БД тестовыми данными",
   "id": "bcc748183ee9e930"
  },
  {
   "metadata": {
    "ExecuteTime": {
     "end_time": "2025-07-13T14:10:27.695098Z",
     "start_time": "2025-07-13T14:10:27.692084Z"
    }
   },
   "cell_type": "code",
   "source": [
    "test_projects = [\n",
    "    {\n",
    "        'number': '201.17',\n",
    "        'name': 'Инженерные сети и благоустройство жилого района усадебной застройки «Сосны» в г.Миоры',\n",
    "        'customer': 'Дочернее коммунальное унитарное предприятие «Управление капитального строительства Глубокского района»',\n",
    "        'chief_engineer': 'Ладисова Татьяна Геннадьевна',\n",
    "        'status': 'активный',\n",
    "        'address': 'Витебская область, Миорский район, г.Миоры',\n",
    "        'path': '2025\\\\Миорский район\\\\201.17 Сосны, Миоры'\n",
    "    },\n",
    "    {\n",
    "        'number': '92.25',\n",
    "        'name': 'Возведение многоквартирного жилого дома по ул. Гагарина в г. Городоке',\n",
    "        'customer': 'Государственное предприятие «УКС Городокского района»',\n",
    "        'chief_engineer': 'Ладисова Татьяна Геннадьевна',\n",
    "        'status': 'активный',\n",
    "        'address': 'Витебская область, г. Городок, ул. Гагарина',\n",
    "        'path': '2025\\\\Городокский район\\\\92.25 ЖД Городок ул.Гагарина'\n",
    "    },\n",
    "    ]"
   ],
   "id": "6ae2d2229bc00eba",
   "outputs": [],
   "execution_count": 12
  },
  {
   "metadata": {
    "ExecuteTime": {
     "end_time": "2025-07-13T13:10:22.074063Z",
     "start_time": "2025-07-13T13:10:22.064129Z"
    }
   },
   "cell_type": "code",
   "source": [
    "for test_project in test_projects:\n",
    "    db_service.create_project(**test_project)"
   ],
   "id": "85366dc1d2d71be9",
   "outputs": [
    {
     "name": "stdout",
     "output_type": "stream",
     "text": [
      "16:10:22 | DEBUG    | GeoOffice.services.database_service | Создан новый проект: Project(id=None, number='201.17', name='Инженерные сети и благоустройство жилого района усадебной застройки «Сосны» в г.Миоры')\n",
      "16:10:22 | DEBUG    | GeoOffice.services.database_service | Создан новый проект: Project(id=None, number='92.25', name='Возведение многоквартирного жилого дома по ул. Гагарина в г. Городоке')\n"
     ]
    }
   ],
   "execution_count": 6
  },
  {
   "metadata": {},
   "cell_type": "markdown",
   "source": "# Просмотр объектов",
   "id": "85b60a527353b233"
  },
  {
   "metadata": {
    "ExecuteTime": {
     "end_time": "2025-07-05T17:59:19.597553Z",
     "start_time": "2025-07-05T17:59:19.591976Z"
    }
   },
   "cell_type": "code",
   "source": [
    "from datetime import datetime\n",
    "from src.models.project_model import Project\n",
    "\n",
    "project_data = db_service.get_project(1).to_dict()\n",
    "project_data['created_date'] = datetime.fromisoformat(project_data['created_date'])\n",
    "project_data['modified_date'] = datetime.fromisoformat(project_data['modified_date'])\n",
    "Project(**project_data)"
   ],
   "id": "8fbcc6586cb4a608",
   "outputs": [
    {
     "name": "stdout",
     "output_type": "stream",
     "text": [
      "20:59:19 | DEBUG    | GeoOffice.services.database_service | Получение проекта по id: id=1\n"
     ]
    },
    {
     "data": {
      "text/plain": [
       "Project(id=1, number='50.25', name='Реконструкция спортзала по адресу ул.Молодежная 26 в г.Новополоцк', customer='Новополоцкий городской исполнительный комитет', chief_engineer='Богданова Екатерина Александровна', status='активный', address='ул.Молодежная 26 в г.Новополоцк', path='2025\\\\Новополоцк\\\\50.25 Реконструкция спортзала Новополоцк', created_date=datetime.datetime(2025, 7, 5, 20, 30, 22, 952641), modified_date=datetime.datetime(2025, 7, 5, 20, 30, 22, 952649))"
      ]
     },
     "execution_count": 22,
     "metadata": {},
     "output_type": "execute_result"
    }
   ],
   "execution_count": 22
  },
  {
   "metadata": {
    "ExecuteTime": {
     "end_time": "2025-07-13T14:07:40.401824Z",
     "start_time": "2025-07-13T14:07:40.395047Z"
    }
   },
   "cell_type": "code",
   "source": [
    "all_projects = db_service.get_all_projects()\n",
    "for project in all_projects:\n",
    "    print(project.number, project.name)"
   ],
   "id": "c2e4f4ea6bffb379",
   "outputs": [
    {
     "name": "stdout",
     "output_type": "stream",
     "text": [
      "17:07:40 | DEBUG    | GeoOffice.services.database_service | Получение всех проектов\n",
      "201.17 Инженерные сети и благоустройство жилого района усадебной застройки «Сосны» в г.Миоры\n",
      "92.25 Возведение многоквартирного жилого дома по ул. Гагарина в г. Городоке\n"
     ]
    }
   ],
   "execution_count": 9
  },
  {
   "metadata": {},
   "cell_type": "markdown",
   "source": "# Прочие операции",
   "id": "7dd318a6f9965606"
  },
  {
   "metadata": {
    "ExecuteTime": {
     "end_time": "2025-07-13T14:10:01.843776Z",
     "start_time": "2025-07-13T14:10:01.838060Z"
    }
   },
   "cell_type": "code",
   "source": [
    "all_projects = db_service.get_all_projects()\n",
    "for project in all_projects:\n",
    "    print(project.path)"
   ],
   "id": "11a19bd2931deaac",
   "outputs": [
    {
     "name": "stdout",
     "output_type": "stream",
     "text": [
      "17:10:01 | DEBUG    | GeoOffice.services.database_service | Получение всех проектов\n",
      "2025\\Миорский район\\201.17 Сосны, Миоры\n",
      "2025\\Городокский район\\92.25 ЖД Городок ул.Гагарина\n"
     ]
    }
   ],
   "execution_count": 11
  },
  {
   "metadata": {
    "ExecuteTime": {
     "end_time": "2025-07-13T15:40:20.830881Z",
     "start_time": "2025-07-13T15:40:20.826207Z"
    }
   },
   "cell_type": "code",
   "source": "db_service.get_all_projects()",
   "id": "1aca285846e47f7e",
   "outputs": [
    {
     "name": "stdout",
     "output_type": "stream",
     "text": [
      "18:40:20 | DEBUG    | GeoOffice.services.database_service | Получение всех проектов\n"
     ]
    },
    {
     "data": {
      "text/plain": [
       "[ProjectTable[1], ProjectTable[2]]"
      ]
     },
     "execution_count": 16,
     "metadata": {},
     "output_type": "execute_result"
    }
   ],
   "execution_count": 16
  },
  {
   "metadata": {
    "ExecuteTime": {
     "end_time": "2025-07-13T20:35:41.527040Z",
     "start_time": "2025-07-13T20:35:41.487014Z"
    }
   },
   "cell_type": "code",
   "source": [
    "from pprint import pprint\n",
    "import re\n",
    "import os\n",
    "from pathlib import Path\n",
    "\n",
    "project_dirname_pattern = re.compile(r\"^(?:\\d{1,3}|NN)\\.\\d{2}(?:\\s.+)?$\")\n",
    "\n",
    "projects_dirpath = Path(settings.paths.file_server) / settings.paths.projects_folder\n",
    "\n",
    "projects_in_files = []\n",
    "for dirpath, dirnames, filenames in os.walk(projects_dirpath):\n",
    "    for dirname in dirnames:\n",
    "        if project_dirname_pattern.match(dirname):\n",
    "            match = re.match(r\"^((?:\\d{1,3}|NN)\\.\\d{2})(?:\\s+(.*))?$\", dirname)\n",
    "            number = match.group(1)\n",
    "            name = match.group(2) or \"\"\n",
    "            projects_in_files.append(tuple([Path(dirpath) / dirname, number, name]))\n",
    "\n",
    "pprint(projects_in_files)\n",
    "\n",
    "projects_in_files_rel = set(str(p.relative_to(projects_dirpath)) for p, _, _ in projects_in_files)\n",
    "projects_in_db = list(db_service.get_all_projects())\n",
    "db_paths = set(p.path for p in projects_in_db)\n",
    "\n",
    "result = {\n",
    "    \"only_in_disk\": list(projects_in_files_rel - db_paths),\n",
    "    \"only_in_db\": list(db_paths - projects_in_files_rel),\n",
    "    \"in_both\": list(projects_in_files_rel & db_paths)\n",
    "}\n",
    "pprint(result)"
   ],
   "id": "c919f668ed7f1f07",
   "outputs": [
    {
     "name": "stdout",
     "output_type": "stream",
     "text": [
      "[(WindowsPath('C:/GeoOffice_test_server/Work/Объекты/2025/Миорский район/201.17 Сосны, Миоры'),\n",
      "  '201.17',\n",
      "  'Сосны, Миоры'),\n",
      " (WindowsPath('C:/GeoOffice_test_server/Work/Объекты/2025/Новополоцк/50.25 Реконструкция спортзала Новополоцк'),\n",
      "  '50.25',\n",
      "  'Реконструкция спортзала Новополоцк'),\n",
      " (WindowsPath('C:/GeoOffice_test_server/Work/Объекты/2025/Ушачский район/116.25 Ушачи вынос осей'),\n",
      "  '116.25',\n",
      "  'Ушачи вынос осей'),\n",
      " (WindowsPath('C:/GeoOffice_test_server/Work/Объекты/2025/Ушачский район/172.25 ЖД Ушачи'),\n",
      "  '172.25',\n",
      "  'ЖД Ушачи'),\n",
      " (WindowsPath('C:/GeoOffice_test_server/Work/Объекты/2025/Шарковщинский район/72.25 ЖД Шарковщина'),\n",
      "  '72.25',\n",
      "  'ЖД Шарковщина')]\n",
      "23:35:41 | DEBUG    | GeoOffice.services.database_service | Получение всех проектов\n",
      "{'in_both': ['2025\\\\Миорский район\\\\201.17 Сосны, Миоры'],\n",
      " 'only_in_db': ['2025\\\\Городокский район\\\\92.25 ЖД Городок ул.Гагарина'],\n",
      " 'only_in_disk': ['2025\\\\Новополоцк\\\\50.25 Реконструкция спортзала Новополоцк',\n",
      "                  '2025\\\\Ушачский район\\\\116.25 Ушачи вынос осей',\n",
      "                  '2025\\\\Шарковщинский район\\\\72.25 ЖД Шарковщина',\n",
      "                  '2025\\\\Ушачский район\\\\172.25 ЖД Ушачи']}\n"
     ]
    }
   ],
   "execution_count": 50
  },
  {
   "metadata": {
    "ExecuteTime": {
     "end_time": "2025-07-13T19:04:51.333295Z",
     "start_time": "2025-07-13T19:04:51.329866Z"
    }
   },
   "cell_type": "code",
   "source": "type(print)",
   "id": "1b84d672cd623e91",
   "outputs": [
    {
     "data": {
      "text/plain": [
       "builtin_function_or_method"
      ]
     },
     "execution_count": 47,
     "metadata": {},
     "output_type": "execute_result"
    }
   ],
   "execution_count": 47
  },
  {
   "metadata": {},
   "cell_type": "markdown",
   "source": "Сбор данных объектов в базу данных",
   "id": "a1186ca21bd9046d"
  },
  {
   "metadata": {
    "ExecuteTime": {
     "end_time": "2025-07-20T11:45:51.340116Z",
     "start_time": "2025-07-20T11:45:51.325476Z"
    }
   },
   "cell_type": "code",
   "source": [
    "import os\n",
    "projects = []\n",
    "for dirpath, dirnames, filenames in os.walk(\n",
    "        Path(settings.paths.file_server) / settings.paths.projects_folder\n",
    "):\n",
    "    for filename in filenames:\n",
    "        if filename == '0.txt' or filename == '0.1.txt' or filename == '0.2.txt':\n",
    "            path = Path(dirpath).relative_to(Path(settings.paths.file_server) / settings.paths.projects_folder)\n",
    "            with open(Path(dirpath) / filename, 'r', encoding='utf8') as f:\n",
    "                number, name, customer = f.readlines()\n",
    "                projects.append(\n",
    "                    {'number': number.strip(),\n",
    "                     'name': name.strip(),\n",
    "                     'customer': customer.strip(),\n",
    "                     'path': str(path)}\n",
    "                )"
   ],
   "id": "53980c2c54ece5bf",
   "outputs": [],
   "execution_count": 24
  },
  {
   "metadata": {
    "ExecuteTime": {
     "end_time": "2025-07-20T11:41:23.824792Z",
     "start_time": "2025-07-20T11:41:23.802090Z"
    }
   },
   "cell_type": "code",
   "source": [
    "for project in projects:\n",
    "    db_service.create_project(\n",
    "        **project,\n",
    "        chief_engineer='не указан',\n",
    "        status='не указан',\n",
    "        address='не указан'\n",
    "    )"
   ],
   "id": "57c7f550c4f0ecb6",
   "outputs": [
    {
     "name": "stdout",
     "output_type": "stream",
     "text": [
      "14:41:23 | DEBUG    | GeoOffice.services.database_service | Создан новый проект: Project(id=None, number='92.25', name='ЖД Городок ул.Гагарина')\n",
      "14:41:23 | DEBUG    | GeoOffice.services.database_service | Создан новый проект: Project(id=None, number='201.17', name='Сосны, Миоры')\n",
      "14:41:23 | DEBUG    | GeoOffice.services.database_service | Создан новый проект: Project(id=None, number='50.25', name='Реконструкция спортзала Новополоцк')\n",
      "14:41:23 | DEBUG    | GeoOffice.services.database_service | Создан новый проект: Project(id=None, number='116.25', name='Ушачи вынос осей')\n",
      "14:41:23 | DEBUG    | GeoOffice.services.database_service | Создан новый проект: Project(id=None, number='172.25', name='ЖД Ушачи')\n",
      "14:41:23 | DEBUG    | GeoOffice.services.database_service | Создан новый проект: Project(id=None, number='72.25', name='ЖД Шарковщина')\n"
     ]
    }
   ],
   "execution_count": 23
  }
 ],
 "metadata": {
  "kernelspec": {
   "display_name": "Python 3",
   "language": "python",
   "name": "python3"
  },
  "language_info": {
   "codemirror_mode": {
    "name": "ipython",
    "version": 2
   },
   "file_extension": ".py",
   "mimetype": "text/x-python",
   "name": "python",
   "nbconvert_exporter": "python",
   "pygments_lexer": "ipython2",
   "version": "2.7.6"
  }
 },
 "nbformat": 4,
 "nbformat_minor": 5
}
