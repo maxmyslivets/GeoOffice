{
 "cells": [
  {
   "metadata": {},
   "cell_type": "markdown",
   "source": "Инициализация рабочей директории и настроек",
   "id": "2c241485de207c0"
  },
  {
   "metadata": {
    "ExecuteTime": {
     "end_time": "2025-07-13T13:00:39.588608Z",
     "start_time": "2025-07-13T13:00:39.564648Z"
    }
   },
   "cell_type": "code",
   "source": [
    "import os\n",
    "import sys\n",
    "from pathlib import Path\n",
    "\n",
    "def init_work_dir(path):\n",
    "    # Установить рабочую директорию\n",
    "    project_root = Path(path)\n",
    "    os.chdir(project_root)\n",
    "    # Добавить путь к модулям проекта\n",
    "    sys.path.insert(0, str(project_root))\n",
    "    print(f\"Текущая рабочая директория: {os.getcwd()}\")\n",
    "\n",
    "init_work_dir(\"C:/Projects/GeoOffice\")\n",
    "\n",
    "from src.utils.file_utils import FileUtils\n",
    "from src.models.settings_model import Settings\n",
    "\n",
    "settings = Settings(data=None)\n",
    "settings_data = FileUtils.load_json(Path(\"storage\") / \"data\" / \"settings.json\")\n",
    "try:\n",
    "    settings = Settings(data=settings_data)\n",
    "    print(\"✅ Настройки загружены успешно\")\n",
    "except Exception as e:\n",
    "    print(f\"Ошибка чтения файла настроек: {e}\")\n",
    "    print(\"Используются настройки по умолчанию\")\n",
    "\n",
    "DB_PATH = settings.paths.database_path\n",
    "print(f\"База данных: {DB_PATH}\")"
   ],
   "id": "5b3216c07fbfce31",
   "outputs": [
    {
     "name": "stdout",
     "output_type": "stream",
     "text": [
      "Текущая рабочая директория: C:\\Projects\\GeoOffice\n",
      "16:00:39 | INFO     | GeoOffice | ============================================================\n",
      "16:00:39 | INFO     | GeoOffice | 🚀 Запуск приложения GeoOffice\n",
      "16:00:39 | INFO     | GeoOffice | 📅 Дата и время: 2025-07-13 16:00:39\n",
      "16:00:39 | INFO     | GeoOffice | 🐍 Версия Python: 3.13.5 (tags/v3.13.5:6cb20a2, Jun 11 2025, 16:15:46) [MSC v.1943 64 bit (AMD64)]\n",
      "16:00:39 | INFO     | GeoOffice | 📁 Рабочая директория: C:\\Projects\\GeoOffice\n",
      "16:00:39 | INFO     | GeoOffice | 📂 Директория логов: C:\\Projects\\GeoOffice\\storage\\logs\n",
      "16:00:39 | INFO     | GeoOffice | ============================================================\n",
      "16:00:39 | DEBUG    | GeoOffice.utils.files | 📂 Загрузка JSON файла: storage\\data\\settings.json\n",
      "16:00:39 | INFO     | GeoOffice.utils.files | ✅ JSON файл загружен: storage\\data\\settings.json\n",
      "✅ Настройки загружены успешно\n",
      "База данных: C:\\GeoOffice_test_server\\geo_office.db\n"
     ]
    }
   ],
   "execution_count": 1
  },
  {
   "metadata": {},
   "cell_type": "markdown",
   "source": "Установка / снятие защиты",
   "id": "c18fcbc4a2d6736f"
  },
  {
   "metadata": {
    "ExecuteTime": {
     "end_time": "2025-07-13T13:02:54.798378Z",
     "start_time": "2025-07-13T13:02:54.790637Z"
    }
   },
   "cell_type": "code",
   "source": [
    "import subprocess\n",
    "\n",
    "def show_db_file():\n",
    "    subprocess.run(['attrib', '-h', '-s', str(DB_PATH)], check=True)\n",
    "def protect_db_file():\n",
    "    subprocess.run(['attrib', '+h', '+s', str(DB_PATH)], check=True)\n",
    "\n",
    "show_db_file()  # Снятие защиты\n",
    "# protect_db_file()  # Установка защиты"
   ],
   "id": "30a0ccd76b9e4e3d",
   "outputs": [],
   "execution_count": 3
  },
  {
   "metadata": {},
   "cell_type": "markdown",
   "source": "Удаление БД",
   "id": "e813dc6d3f21e6c3"
  },
  {
   "metadata": {
    "ExecuteTime": {
     "end_time": "2025-07-13T13:08:59.857448Z",
     "start_time": "2025-07-13T13:08:59.854447Z"
    }
   },
   "cell_type": "code",
   "source": [
    "from pathlib import Path\n",
    "\n",
    "def delete_db_file():\n",
    "    Path(DB_PATH).unlink()\n",
    "    if Path(DB_PATH).exists():\n",
    "        raise Exception(\"Файл не удалён\")\n",
    "\n",
    "# delete_db_file()"
   ],
   "id": "3cd44a74c26fd5f0",
   "outputs": [],
   "execution_count": 4
  },
  {
   "metadata": {},
   "cell_type": "markdown",
   "source": "Создание / Подключение к БД",
   "id": "af7c2ec5c8b42ebf"
  },
  {
   "metadata": {
    "ExecuteTime": {
     "end_time": "2025-07-13T13:02:38.907902Z",
     "start_time": "2025-07-13T13:02:38.838568Z"
    }
   },
   "cell_type": "code",
   "source": [
    "from src.services.database_service import DataBaseProjectService\n",
    "\n",
    "db_service = DataBaseProjectService(DB_PATH)"
   ],
   "id": "initial_id",
   "outputs": [
    {
     "name": "stdout",
     "output_type": "stream",
     "text": [
      "16:02:38 | INFO     | GeoOffice.services.database_service | Инициализация базы данных: C:\\GeoOffice_test_server\\geo_office.db\n",
      "16:02:38 | INFO     | GeoOffice.services.database_service | База данных успешно инициализирована\n"
     ]
    }
   ],
   "execution_count": 2
  },
  {
   "metadata": {},
   "cell_type": "markdown",
   "source": "Заполнение БД тестовыми данными",
   "id": "bcc748183ee9e930"
  },
  {
   "metadata": {
    "ExecuteTime": {
     "end_time": "2025-07-13T13:10:20.837349Z",
     "start_time": "2025-07-13T13:10:20.834589Z"
    }
   },
   "cell_type": "code",
   "source": [
    "test_projects = [\n",
    "    {\n",
    "        'number': '201.17',\n",
    "        'name': 'Инженерные сети и благоустройство жилого района усадебной застройки «Сосны» в г.Миоры',\n",
    "        'customer': 'Дочернее коммунальное унитарное предприятие «Управление капитального строительства Глубокского района»',\n",
    "        'chief_engineer': 'Ладисова Татьяна Геннадьевна',\n",
    "        'status': 'активный',\n",
    "        'address': 'Витебская область, Миорский район, г.Миоры',\n",
    "        'path': '2025\\\\Миорский район\\\\201.17 Сосны, Миоры'\n",
    "    },\n",
    "    {\n",
    "        'number': '92.25',\n",
    "        'name': 'Возведение многоквартирного жилого дома по ул. Гагарина в г. Городоке',\n",
    "        'customer': 'Государственное предприятие «УКС Городокского района»',\n",
    "        'chief_engineer': 'Ладисова Татьяна Геннадьевна',\n",
    "        'status': 'активный',\n",
    "        'address': 'Витебская область, г. Городок, ул. Гагарина',\n",
    "        'path': '\"2025\\\\Городокский район\\\\92.25 ЖД Городок ул.Гагарина\"'\n",
    "    },\n",
    "    ]"
   ],
   "id": "6ae2d2229bc00eba",
   "outputs": [],
   "execution_count": 5
  },
  {
   "metadata": {
    "ExecuteTime": {
     "end_time": "2025-07-13T13:10:22.074063Z",
     "start_time": "2025-07-13T13:10:22.064129Z"
    }
   },
   "cell_type": "code",
   "source": [
    "for test_project in test_projects:\n",
    "    db_service.create_project(**test_project)"
   ],
   "id": "85366dc1d2d71be9",
   "outputs": [
    {
     "name": "stdout",
     "output_type": "stream",
     "text": [
      "16:10:22 | DEBUG    | GeoOffice.services.database_service | Создан новый проект: Project(id=None, number='201.17', name='Инженерные сети и благоустройство жилого района усадебной застройки «Сосны» в г.Миоры')\n",
      "16:10:22 | DEBUG    | GeoOffice.services.database_service | Создан новый проект: Project(id=None, number='92.25', name='Возведение многоквартирного жилого дома по ул. Гагарина в г. Городоке')\n"
     ]
    }
   ],
   "execution_count": 6
  },
  {
   "metadata": {
    "ExecuteTime": {
     "end_time": "2025-07-05T17:59:19.597553Z",
     "start_time": "2025-07-05T17:59:19.591976Z"
    }
   },
   "cell_type": "code",
   "source": [
    "from datetime import datetime\n",
    "from src.models.project_model import Project\n",
    "\n",
    "project_data = db_service.get_project(1).to_dict()\n",
    "project_data['created_date'] = datetime.fromisoformat(project_data['created_date'])\n",
    "project_data['modified_date'] = datetime.fromisoformat(project_data['modified_date'])\n",
    "Project(**project_data)"
   ],
   "id": "8fbcc6586cb4a608",
   "outputs": [
    {
     "name": "stdout",
     "output_type": "stream",
     "text": [
      "20:59:19 | DEBUG    | GeoOffice.services.database_service | Получение проекта по id: id=1\n"
     ]
    },
    {
     "data": {
      "text/plain": [
       "Project(id=1, number='50.25', name='Реконструкция спортзала по адресу ул.Молодежная 26 в г.Новополоцк', customer='Новополоцкий городской исполнительный комитет', chief_engineer='Богданова Екатерина Александровна', status='активный', address='ул.Молодежная 26 в г.Новополоцк', path='2025\\\\Новополоцк\\\\50.25 Реконструкция спортзала Новополоцк', created_date=datetime.datetime(2025, 7, 5, 20, 30, 22, 952641), modified_date=datetime.datetime(2025, 7, 5, 20, 30, 22, 952649))"
      ]
     },
     "execution_count": 22,
     "metadata": {},
     "output_type": "execute_result"
    }
   ],
   "execution_count": 22
  },
  {
   "metadata": {
    "ExecuteTime": {
     "end_time": "2025-07-05T17:53:01.232497Z",
     "start_time": "2025-07-05T17:53:01.228740Z"
    }
   },
   "cell_type": "code",
   "source": "db_service.models.Project.select()[:]",
   "id": "c2e4f4ea6bffb379",
   "outputs": [
    {
     "data": {
      "text/plain": [
       "[ProjectTable[1], ProjectTable[2], ProjectTable[3]]"
      ]
     },
     "execution_count": 20,
     "metadata": {},
     "output_type": "execute_result"
    }
   ],
   "execution_count": 20
  }
 ],
 "metadata": {
  "kernelspec": {
   "display_name": "Python 3",
   "language": "python",
   "name": "python3"
  },
  "language_info": {
   "codemirror_mode": {
    "name": "ipython",
    "version": 2
   },
   "file_extension": ".py",
   "mimetype": "text/x-python",
   "name": "python",
   "nbconvert_exporter": "python",
   "pygments_lexer": "ipython2",
   "version": "2.7.6"
  }
 },
 "nbformat": 4,
 "nbformat_minor": 5
}
